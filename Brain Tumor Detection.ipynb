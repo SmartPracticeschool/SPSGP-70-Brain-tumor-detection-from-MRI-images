{
 "cells": [
  {
   "cell_type": "markdown",
   "metadata": {},
   "source": [
    "# Data Preprocessing"
   ]
  },
  {
   "cell_type": "markdown",
   "metadata": {},
   "source": [
    "Importing ImageDataGenerator library"
   ]
  },
  {
   "cell_type": "code",
   "execution_count": 4,
   "metadata": {},
   "outputs": [],
   "source": [
    "from keras.preprocessing.image import ImageDataGenerator"
   ]
  },
  {
   "cell_type": "markdown",
   "metadata": {},
   "source": [
    "Configuring ImageDataGenerator Class"
   ]
  },
  {
   "cell_type": "code",
   "execution_count": 5,
   "metadata": {},
   "outputs": [],
   "source": [
    "train_datagen = ImageDataGenerator(rescale = 1./255,shear_range = 0.2,zoom_range = 0.2,horizontal_flip = True)\n",
    "test_datagen =ImageDataGenerator(rescale = 1)"
   ]
  },
  {
   "cell_type": "markdown",
   "metadata": {},
   "source": [
    "Applying ImageDataGenerator Functionality To Trainset And Testset"
   ]
  },
  {
   "cell_type": "code",
   "execution_count": 6,
   "metadata": {},
   "outputs": [
    {
     "name": "stdout",
     "output_type": "stream",
     "text": [
      "Found 156 images belonging to 2 classes.\n",
      "Found 40 images belonging to 2 classes.\n"
     ]
    }
   ],
   "source": [
    "x_train = train_datagen.flow_from_directory(r'dataset\\train_set',target_size = (64,64),batch_size = 32, class_mode = 'binary')\n",
    "x_test =  test_datagen.flow_from_directory(r'dataset\\test_set',target_size = (64,64),batch_size = 32, class_mode = 'binary')"
   ]
  },
  {
   "cell_type": "markdown",
   "metadata": {},
   "source": [
    "# Model Building"
   ]
  },
  {
   "cell_type": "markdown",
   "metadata": {},
   "source": [
    "\n",
    "Importing The Model Building Libraries"
   ]
  },
  {
   "cell_type": "code",
   "execution_count": 7,
   "metadata": {},
   "outputs": [],
   "source": [
    "from keras.models import Sequential\n",
    "from keras.layers import Dense\n",
    "from keras.layers import Convolution2D\n",
    "from keras.layers import MaxPooling2D\n",
    "from keras.layers import Flatten"
   ]
  },
  {
   "cell_type": "markdown",
   "metadata": {},
   "source": [
    "Initializing The Model"
   ]
  },
  {
   "cell_type": "code",
   "execution_count": 8,
   "metadata": {},
   "outputs": [
    {
     "name": "stdout",
     "output_type": "stream",
     "text": [
      "WARNING:tensorflow:From F:\\anaconda3\\lib\\site-packages\\keras\\backend\\tensorflow_backend.py:74: The name tf.get_default_graph is deprecated. Please use tf.compat.v1.get_default_graph instead.\n",
      "\n"
     ]
    }
   ],
   "source": [
    "model = Sequential()"
   ]
  },
  {
   "cell_type": "markdown",
   "metadata": {},
   "source": [
    "Adding CNN Layers"
   ]
  },
  {
   "cell_type": "code",
   "execution_count": 9,
   "metadata": {},
   "outputs": [
    {
     "name": "stdout",
     "output_type": "stream",
     "text": [
      "WARNING:tensorflow:From F:\\anaconda3\\lib\\site-packages\\keras\\backend\\tensorflow_backend.py:517: The name tf.placeholder is deprecated. Please use tf.compat.v1.placeholder instead.\n",
      "\n",
      "WARNING:tensorflow:From F:\\anaconda3\\lib\\site-packages\\keras\\backend\\tensorflow_backend.py:4138: The name tf.random_uniform is deprecated. Please use tf.random.uniform instead.\n",
      "\n"
     ]
    }
   ],
   "source": [
    "#Adding the Convolution Layer\n",
    "model.add(Convolution2D(32,(3,3),input_shape = (64,64,3),activation = 'relu'))"
   ]
  },
  {
   "cell_type": "code",
   "execution_count": 10,
   "metadata": {},
   "outputs": [
    {
     "name": "stdout",
     "output_type": "stream",
     "text": [
      "WARNING:tensorflow:From F:\\anaconda3\\lib\\site-packages\\keras\\backend\\tensorflow_backend.py:3976: The name tf.nn.max_pool is deprecated. Please use tf.nn.max_pool2d instead.\n",
      "\n"
     ]
    }
   ],
   "source": [
    "#Adding MaxPooling Layer\n",
    "model.add(MaxPooling2D(pool_size = (2,2)))"
   ]
  },
  {
   "cell_type": "code",
   "execution_count": 11,
   "metadata": {},
   "outputs": [],
   "source": [
    "#Adding Flattening Layer\n",
    "model.add(Flatten())"
   ]
  },
  {
   "cell_type": "code",
   "execution_count": 12,
   "metadata": {},
   "outputs": [
    {
     "name": "stderr",
     "output_type": "stream",
     "text": [
      "F:\\anaconda3\\lib\\site-packages\\ipykernel_launcher.py:2: UserWarning: Update your `Dense` call to the Keras 2 API: `Dense(activation=\"relu\", units=128, kernel_initializer=\"uniform\")`\n",
      "  \n"
     ]
    }
   ],
   "source": [
    "#Adding Hidden Layer\n",
    "model.add(Dense(output_dim = 128 ,init = 'uniform',activation = 'relu'))"
   ]
  },
  {
   "cell_type": "code",
   "execution_count": 13,
   "metadata": {},
   "outputs": [
    {
     "name": "stderr",
     "output_type": "stream",
     "text": [
      "F:\\anaconda3\\lib\\site-packages\\ipykernel_launcher.py:2: UserWarning: Update your `Dense` call to the Keras 2 API: `Dense(activation=\"sigmoid\", units=1, kernel_initializer=\"uniform\")`\n",
      "  \n"
     ]
    }
   ],
   "source": [
    "#Adding Output Layer \n",
    "model.add(Dense(output_dim = 1,activation = 'sigmoid',init ='uniform'))"
   ]
  },
  {
   "cell_type": "code",
   "execution_count": 14,
   "metadata": {},
   "outputs": [
    {
     "name": "stdout",
     "output_type": "stream",
     "text": [
      "{'no': 0, 'yes': 1}\n"
     ]
    }
   ],
   "source": [
    "print(x_train.class_indices)"
   ]
  },
  {
   "cell_type": "markdown",
   "metadata": {},
   "source": [
    "Configuring The Learning Process"
   ]
  },
  {
   "cell_type": "code",
   "execution_count": 15,
   "metadata": {},
   "outputs": [
    {
     "name": "stdout",
     "output_type": "stream",
     "text": [
      "WARNING:tensorflow:From F:\\anaconda3\\lib\\site-packages\\keras\\optimizers.py:790: The name tf.train.Optimizer is deprecated. Please use tf.compat.v1.train.Optimizer instead.\n",
      "\n",
      "WARNING:tensorflow:From F:\\anaconda3\\lib\\site-packages\\keras\\backend\\tensorflow_backend.py:3376: The name tf.log is deprecated. Please use tf.math.log instead.\n",
      "\n",
      "WARNING:tensorflow:From F:\\anaconda3\\lib\\site-packages\\tensorflow\\python\\ops\\nn_impl.py:180: add_dispatch_support.<locals>.wrapper (from tensorflow.python.ops.array_ops) is deprecated and will be removed in a future version.\n",
      "Instructions for updating:\n",
      "Use tf.where in 2.0, which has the same broadcast rule as np.where\n"
     ]
    }
   ],
   "source": [
    "#Compiling\n",
    "model.compile(loss = 'binary_crossentropy',optimizer = \"adam\",metrics = [\"accuracy\"])"
   ]
  },
  {
   "cell_type": "markdown",
   "metadata": {},
   "source": [
    "Training and Testing the Model"
   ]
  },
  {
   "cell_type": "code",
   "execution_count": 16,
   "metadata": {},
   "outputs": [
    {
     "name": "stdout",
     "output_type": "stream",
     "text": [
      "WARNING:tensorflow:From F:\\anaconda3\\lib\\site-packages\\keras\\backend\\tensorflow_backend.py:986: The name tf.assign_add is deprecated. Please use tf.compat.v1.assign_add instead.\n",
      "\n",
      "Epoch 1/20\n",
      "2/2 [==============================] - 7s 4s/step - loss: 0.6753 - acc: 0.5938 - val_loss: 6.9748 - val_acc: 0.5625\n",
      "Epoch 2/20\n",
      "2/2 [==============================] - 2s 893ms/step - loss: 0.6986 - acc: 0.5781 - val_loss: 2.0148 - val_acc: 0.8750\n",
      "Epoch 3/20\n",
      "2/2 [==============================] - 2s 992ms/step - loss: 0.6651 - acc: 0.6382 - val_loss: 4.0076 - val_acc: 0.7500\n",
      "Epoch 4/20\n",
      "2/2 [==============================] - 2s 1s/step - loss: 0.6253 - acc: 0.6562 - val_loss: 3.9856 - val_acc: 0.7500\n",
      "Epoch 5/20\n",
      "2/2 [==============================] - 2s 943ms/step - loss: 0.5995 - acc: 0.7849 - val_loss: 5.0052 - val_acc: 0.6875\n",
      "Epoch 6/20\n",
      "2/2 [==============================] - 1s 310ms/step - loss: 0.5635 - acc: 0.7656 - val_loss: 4.0295 - val_acc: 0.7500\n",
      "Epoch 7/20\n",
      "2/2 [==============================] - 1s 380ms/step - loss: 0.6065 - acc: 0.6562 - val_loss: 3.5209 - val_acc: 0.7812\n",
      "Epoch 8/20\n",
      "2/2 [==============================] - 1s 282ms/step - loss: 0.6527 - acc: 0.6946 - val_loss: 4.0076 - val_acc: 0.7500\n",
      "Epoch 9/20\n",
      "2/2 [==============================] - 1s 399ms/step - loss: 0.5514 - acc: 0.7344 - val_loss: 3.4984 - val_acc: 0.7812\n",
      "Epoch 10/20\n",
      "2/2 [==============================] - 1s 297ms/step - loss: 0.5567 - acc: 0.7210 - val_loss: 7.9712 - val_acc: 0.5000\n",
      "Epoch 11/20\n",
      "2/2 [==============================] - 1s 480ms/step - loss: 0.5742 - acc: 0.7031 - val_loss: 5.4912 - val_acc: 0.6562\n",
      "Epoch 12/20\n",
      "2/2 [==============================] - 1s 305ms/step - loss: 0.5667 - acc: 0.7188 - val_loss: 1.1201e-07 - val_acc: 1.0000\n",
      "Epoch 13/20\n",
      "2/2 [==============================] - 1s 261ms/step - loss: 0.5345 - acc: 0.6846 - val_loss: 3.5310 - val_acc: 0.7500\n",
      "Epoch 14/20\n",
      "2/2 [==============================] - 0s 250ms/step - loss: 0.5824 - acc: 0.6250 - val_loss: 3.9861 - val_acc: 0.7500\n",
      "Epoch 15/20\n",
      "2/2 [==============================] - 1s 508ms/step - loss: 0.6156 - acc: 0.7385 - val_loss: 1.8453 - val_acc: 0.8750\n",
      "Epoch 16/20\n",
      "2/2 [==============================] - 1s 288ms/step - loss: 0.5836 - acc: 0.6562 - val_loss: 8.0151 - val_acc: 0.5000\n",
      "Epoch 17/20\n",
      "2/2 [==============================] - 1s 320ms/step - loss: 0.5390 - acc: 0.7812 - val_loss: 4.4878 - val_acc: 0.7188\n",
      "Epoch 18/20\n",
      "2/2 [==============================] - 1s 340ms/step - loss: 0.5085 - acc: 0.7849 - val_loss: 4.0076 - val_acc: 0.7500\n",
      "Epoch 19/20\n",
      "2/2 [==============================] - 1s 326ms/step - loss: 0.4985 - acc: 0.7188 - val_loss: 3.3644 - val_acc: 0.7812\n",
      "Epoch 20/20\n",
      "2/2 [==============================] - 1s 358ms/step - loss: 0.5428 - acc: 0.6846 - val_loss: 5.9784 - val_acc: 0.6250\n"
     ]
    },
    {
     "data": {
      "text/plain": [
       "<keras.callbacks.History at 0x1bb0e0d4a88>"
      ]
     },
     "execution_count": 16,
     "metadata": {},
     "output_type": "execute_result"
    }
   ],
   "source": [
    "model.fit_generator(x_train, steps_per_epoch = 2 ,epochs = 20,validation_data = x_test,validation_steps = 1)"
   ]
  },
  {
   "cell_type": "markdown",
   "metadata": {},
   "source": [
    "Saving the Model"
   ]
  },
  {
   "cell_type": "code",
   "execution_count": 17,
   "metadata": {},
   "outputs": [],
   "source": [
    "model.save(\"braintumor.h5\")"
   ]
  },
  {
   "cell_type": "code",
   "execution_count": null,
   "metadata": {},
   "outputs": [],
   "source": []
  },
  {
   "cell_type": "code",
   "execution_count": null,
   "metadata": {},
   "outputs": [],
   "source": []
  },
  {
   "cell_type": "code",
   "execution_count": null,
   "metadata": {},
   "outputs": [],
   "source": []
  }
 ],
 "metadata": {
  "kernelspec": {
   "display_name": "Python 3",
   "language": "python",
   "name": "python3"
  },
  "language_info": {
   "codemirror_mode": {
    "name": "ipython",
    "version": 3
   },
   "file_extension": ".py",
   "mimetype": "text/x-python",
   "name": "python",
   "nbconvert_exporter": "python",
   "pygments_lexer": "ipython3",
   "version": "3.7.6"
  }
 },
 "nbformat": 4,
 "nbformat_minor": 4
}
